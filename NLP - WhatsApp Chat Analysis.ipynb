{
 "cells": [
  {
   "cell_type": "code",
   "execution_count": null,
   "id": "ba21c5e0",
   "metadata": {},
   "outputs": [],
   "source": [
    "import pandas as pd\n",
    "pd.set_option(\"display.max_rows\",None)\n",
    "pd.set_option(\"display.max_columns\",None)\n",
    "import matplotlib.pyplot as plt\n",
    "%matplotlib inline\n",
    "import seaborn as sns\n",
    "sns.set(color_codes=True)\n",
    "import warnings\n",
    "warnings.filterwarnings(\"ignore\")\n",
    "import numpy as np\n",
    "import re\n",
    "import nltk\n",
    "import string\n",
    "from nltk.stem import WordNetLemmatizer\n",
    "from wordcloud import WordCloud\n",
    "from nltk.sentiment.vader import SentimentIntensityAnalyzer"
   ]
  },
  {
   "cell_type": "code",
   "execution_count": null,
   "id": "a4fe1a8a",
   "metadata": {},
   "outputs": [],
   "source": [
    "wchat=pd.read_csv(\"C:/Users/bansa/Downloads/WhatsApp Chat - Ashraf LBSIM/_chat.txt\", delimiter=\"\\t\",header=None)"
   ]
  },
  {
   "cell_type": "code",
   "execution_count": null,
   "id": "8e323bc8",
   "metadata": {},
   "outputs": [],
   "source": [
    "wchat.head()"
   ]
  },
  {
   "cell_type": "code",
   "execution_count": null,
   "id": "80e8def0",
   "metadata": {},
   "outputs": [],
   "source": [
    "wchat.drop(index=[0], inplace =True)"
   ]
  },
  {
   "cell_type": "code",
   "execution_count": null,
   "id": "c576bc34",
   "metadata": {},
   "outputs": [],
   "source": [
    "wchat.reset_index(drop=True, inplace=True)"
   ]
  },
  {
   "cell_type": "code",
   "execution_count": null,
   "id": "37c8c271",
   "metadata": {},
   "outputs": [],
   "source": [
    "wchat.rename(columns={0:\"Chat\"}, inplace=True)"
   ]
  },
  {
   "cell_type": "code",
   "execution_count": null,
   "id": "aacaf547",
   "metadata": {},
   "outputs": [],
   "source": [
    "wchat"
   ]
  },
  {
   "cell_type": "code",
   "execution_count": null,
   "id": "0848e800",
   "metadata": {},
   "outputs": [],
   "source": [
    "wchat[['Date', 'Chat_updated']] = wchat['Chat'].str.split(']', expand=True)"
   ]
  },
  {
   "cell_type": "code",
   "execution_count": null,
   "id": "d1862dee",
   "metadata": {},
   "outputs": [],
   "source": [
    "wchat"
   ]
  },
  {
   "cell_type": "code",
   "execution_count": null,
   "id": "858136e5",
   "metadata": {},
   "outputs": [],
   "source": [
    "# Checking the distribution of length of chats\n",
    "plt.figure(figsize=(10,5))\n",
    "plt.hist(wchat[\"Chat_updated\"].str.len(), bins=20)\n",
    "plt.show()"
   ]
  },
  {
   "cell_type": "markdown",
   "id": "739d6639",
   "metadata": {},
   "source": [
    "### Text Preprocessing"
   ]
  },
  {
   "cell_type": "code",
   "execution_count": null,
   "id": "0e73b3b6",
   "metadata": {},
   "outputs": [],
   "source": [
    "def remove_pattern(input_txt, pattern):\n",
    "    r = re.findall(pattern, input_txt)\n",
    "    for i in r:\n",
    "        input_txt = re.sub(i, '', input_txt)\n",
    "    return input_txt"
   ]
  },
  {
   "cell_type": "code",
   "execution_count": null,
   "id": "0164326c",
   "metadata": {},
   "outputs": [],
   "source": [
    "wchat[\"Chat_updated\"] = wchat[\"Chat_updated\"].str.replace(\"rubal:\",\"\")\n",
    "wchat[\"Chat_updated\"] = wchat[\"Chat_updated\"].str.replace(\"Ashraf LBSIM: \",\"\")"
   ]
  },
  {
   "cell_type": "code",
   "execution_count": null,
   "id": "e2a64d82",
   "metadata": {},
   "outputs": [],
   "source": [
    "#Removing Punctuations, Numbers, and Special Characters\n",
    "#we will replace everything except characters and hashtags with spaces\n",
    "#The regular expression “[^a-zA-Z#]” means anything except alphabets and ‘#’.\n",
    "wchat.Chat_updated = wchat.Chat_updated.str.replace(\"[^a-zA-Z]\", \" \")\n",
    "wchat.head(10)"
   ]
  },
  {
   "cell_type": "code",
   "execution_count": null,
   "id": "7c2177a4",
   "metadata": {},
   "outputs": [],
   "source": [
    "wchat.dtypes"
   ]
  },
  {
   "cell_type": "code",
   "execution_count": null,
   "id": "840c9f12",
   "metadata": {},
   "outputs": [],
   "source": [
    "wchat.Chat_updated[0]"
   ]
  },
  {
   "cell_type": "code",
   "execution_count": null,
   "id": "ea49f3d0",
   "metadata": {},
   "outputs": [],
   "source": [
    "len(wchat)"
   ]
  },
  {
   "cell_type": "code",
   "execution_count": null,
   "id": "9bfbaaf8",
   "metadata": {},
   "outputs": [],
   "source": [
    "# Removing words with length less than or equal to 3\n",
    "def remove_short_words(x):\n",
    "    for i in range(len(wchat)):\n",
    "        if x[i] is not None:\n",
    "            x[i]=' '.join([w for w in x[i].split() if len(w) > 3])\n",
    "    return x"
   ]
  },
  {
   "cell_type": "code",
   "execution_count": null,
   "id": "a1f46d27",
   "metadata": {},
   "outputs": [],
   "source": [
    "wchat.Chat_updated=remove_short_words(wchat.Chat_updated)"
   ]
  },
  {
   "cell_type": "code",
   "execution_count": null,
   "id": "41b7bfff",
   "metadata": {},
   "outputs": [],
   "source": [
    "# Removing any extra spaces\n",
    "def remove_blancs(x):\n",
    "    for i in range(len(x)):\n",
    "        if x[i] is not None:\n",
    "            x[i]=' '.join([w.strip() for w in x[i].split()])\n",
    "    return x"
   ]
  },
  {
   "cell_type": "code",
   "execution_count": null,
   "id": "aaf588bf",
   "metadata": {},
   "outputs": [],
   "source": [
    "wchat.Chat_updated=remove_blancs(wchat.Chat_updated)"
   ]
  },
  {
   "cell_type": "code",
   "execution_count": null,
   "id": "ef05c1f3",
   "metadata": {},
   "outputs": [],
   "source": [
    "# Removing stopwords\n",
    "stopwords=nltk.corpus.stopwords.words(\"English\")"
   ]
  },
  {
   "cell_type": "code",
   "execution_count": null,
   "id": "1e21a334",
   "metadata": {},
   "outputs": [],
   "source": [
    "def remove_stopwords(x):\n",
    "    for i in range(len(x)):\n",
    "        if x[i] is not None:\n",
    "            new_ls=[]\n",
    "            x_spl= x[i].split()\n",
    "            for w in x_spl:\n",
    "                if w not in stopwords:\n",
    "                    new_ls.append(w)\n",
    "                else:\n",
    "                    new_ls.append(\" \")\n",
    "            x[i]=\" \".join(new_ls)\n",
    "    return x"
   ]
  },
  {
   "cell_type": "code",
   "execution_count": null,
   "id": "5d9d9086",
   "metadata": {},
   "outputs": [],
   "source": [
    "wchat.Chat_updated=remove_stopwords(wchat.Chat_updated)"
   ]
  },
  {
   "cell_type": "code",
   "execution_count": null,
   "id": "51991bfd",
   "metadata": {},
   "outputs": [],
   "source": [
    "wchat"
   ]
  },
  {
   "cell_type": "markdown",
   "id": "3c3e2216",
   "metadata": {},
   "source": [
    "### Text Normalization"
   ]
  },
  {
   "cell_type": "code",
   "execution_count": null,
   "id": "8df76332",
   "metadata": {},
   "outputs": [],
   "source": [
    "nltk.download(\"wordnet\")"
   ]
  },
  {
   "cell_type": "code",
   "execution_count": null,
   "id": "e4f68854",
   "metadata": {},
   "outputs": [],
   "source": [
    "lemma=WordNetLemmatizer()"
   ]
  },
  {
   "cell_type": "code",
   "execution_count": null,
   "id": "93d6d95a",
   "metadata": {},
   "outputs": [],
   "source": [
    "i=0\n",
    "for chat in wchat.Chat_updated:\n",
    "    chat=str(chat).split()\n",
    "    chat=[lemma.lemmatize(word,pos=\"v\") for word in chat]\n",
    "    wchat.Chat_updated[i]=chat\n",
    "    i+=1"
   ]
  },
  {
   "cell_type": "code",
   "execution_count": null,
   "id": "511a0da7",
   "metadata": {},
   "outputs": [],
   "source": [
    "# Lets stitch them together\n",
    "j=0\n",
    "for chat in wchat.Chat_updated:\n",
    "    wchat.Chat_updated[j]=\" \".join([word for word in chat])\n",
    "    j+=1"
   ]
  },
  {
   "cell_type": "code",
   "execution_count": null,
   "id": "a742482a",
   "metadata": {},
   "outputs": [],
   "source": [
    "wchat"
   ]
  },
  {
   "cell_type": "code",
   "execution_count": null,
   "id": "4a53152e",
   "metadata": {},
   "outputs": [],
   "source": [
    "### Removing \"image omit\" pattern from chats\n",
    "for i in range(len(wchat.Chat_updated)):\n",
    "    wchat.Chat_updated[i]=remove_pattern(wchat.Chat_updated[i],\"image omit\")"
   ]
  },
  {
   "cell_type": "code",
   "execution_count": null,
   "id": "41b684ac",
   "metadata": {},
   "outputs": [],
   "source": [
    "wchat"
   ]
  },
  {
   "cell_type": "markdown",
   "id": "ae927946",
   "metadata": {},
   "source": [
    "### Creating and Saving Word Clouds"
   ]
  },
  {
   "cell_type": "code",
   "execution_count": null,
   "id": "107e1f3d",
   "metadata": {},
   "outputs": [],
   "source": [
    "all_words=\" \".join([text for text in wchat.Chat_updated])\n",
    "wordcloud=WordCloud(width=700, height=800, random_state=200,max_font_size=110).generate(all_words)\n",
    "plt.figure(figsize=(15,15))\n",
    "plt.imshow(wordcloud,interpolation=\"bilinear\")\n",
    "plt.axis(\"off\")\n",
    "wordcloud.to_file(\"I:/Data Science/Eduonix/Assignments/16267625/Whatsapp_GroupChat_Analysis/wordcloud.png\")\n",
    "plt.show()"
   ]
  },
  {
   "cell_type": "markdown",
   "id": "d4cbf462",
   "metadata": {},
   "source": [
    "### Sentiment Analysis"
   ]
  },
  {
   "cell_type": "code",
   "execution_count": null,
   "id": "f8f50468",
   "metadata": {},
   "outputs": [],
   "source": [
    "wchat.head()"
   ]
  },
  {
   "cell_type": "code",
   "execution_count": null,
   "id": "13cdb94f",
   "metadata": {},
   "outputs": [],
   "source": [
    "#nltk.download('vader_lexicon')"
   ]
  },
  {
   "cell_type": "code",
   "execution_count": null,
   "id": "b6157c39",
   "metadata": {},
   "outputs": [],
   "source": [
    "sentiments = SentimentIntensityAnalyzer()\n",
    "wchat[\"Positive\"] = [sentiments.polarity_scores(i)[\"pos\"] for i in wchat[\"Chat_updated\"]]\n",
    "wchat[\"Negative\"] = [sentiments.polarity_scores(i)[\"neg\"] for i in wchat[\"Chat_updated\"]]\n",
    "wchat[\"Neutral\"] = [sentiments.polarity_scores(i)[\"neu\"] for i in wchat[\"Chat_updated\"]]"
   ]
  },
  {
   "cell_type": "code",
   "execution_count": null,
   "id": "7876b8dc",
   "metadata": {},
   "outputs": [],
   "source": [
    "wchat"
   ]
  },
  {
   "cell_type": "code",
   "execution_count": null,
   "id": "4afc711a",
   "metadata": {},
   "outputs": [],
   "source": [
    "a=sum(wchat.Positive)\n",
    "b=sum(wchat.Negative)\n",
    "c=sum(wchat.Neutral)"
   ]
  },
  {
   "cell_type": "code",
   "execution_count": null,
   "id": "501a5904",
   "metadata": {},
   "outputs": [],
   "source": [
    "print(a,b,c)"
   ]
  },
  {
   "cell_type": "code",
   "execution_count": null,
   "id": "4d38ebf3",
   "metadata": {},
   "outputs": [],
   "source": [
    "def sentiment_analysis(x,y,z):\n",
    "    if (x>y) and (x>z):\n",
    "        print(\"Positive\")\n",
    "    elif (y>x) and (y>z):\n",
    "        print(\"Negative\")\n",
    "    else:\n",
    "        print(\"Neutral\")"
   ]
  },
  {
   "cell_type": "code",
   "execution_count": null,
   "id": "a57b707a",
   "metadata": {},
   "outputs": [],
   "source": [
    "sentiment_analysis(a,b,c)"
   ]
  },
  {
   "cell_type": "code",
   "execution_count": null,
   "id": "911edc16",
   "metadata": {},
   "outputs": [],
   "source": []
  }
 ],
 "metadata": {
  "kernelspec": {
   "display_name": "Python 3 (ipykernel)",
   "language": "python",
   "name": "python3"
  },
  "language_info": {
   "codemirror_mode": {
    "name": "ipython",
    "version": 3
   },
   "file_extension": ".py",
   "mimetype": "text/x-python",
   "name": "python",
   "nbconvert_exporter": "python",
   "pygments_lexer": "ipython3",
   "version": "3.10.9"
  }
 },
 "nbformat": 4,
 "nbformat_minor": 5
}
